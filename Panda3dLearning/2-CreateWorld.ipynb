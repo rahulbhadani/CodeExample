{
 "cells": [
  {
   "cell_type": "code",
   "execution_count": null,
   "metadata": {},
   "outputs": [],
   "source": [
    "import direct.directbase.DirectStart"
   ]
  },
  {
   "cell_type": "markdown",
   "metadata": {},
   "source": [
    "`base` is one of the objects that `DirectStart` creates for us and it is an instance of the `ShowBase` class. Through base we can access a wide variety of useful things, such as the properties of the default window, the default camera through which we see the game world, and more. "
   ]
  },
  {
   "cell_type": "markdown",
   "metadata": {},
   "source": [
    "The method `setBackgroundColor` is pretty self-explanatory. It sets the background color of the window to the RGB value it's given. Panda3D uses a 0-1 range for RGB values, so 0,0,0 is black and 1,1,1 is white. These values can be over driven, so 10,10,10 wouldn't produce an error but if you expected a 0-255 scale, having 10,10,10 be bright then white might be a bit confusing. Take a moment to enter different values into the call to base.\n",
    "`setBackgroundColor` and rerun the program to see the results. When finished, change the values back to 0,0,0"
   ]
  },
  {
   "cell_type": "markdown",
   "metadata": {},
   "source": [
    "The call to `loader.loadModel` pretty much does what it says: the loader finds the file using the path we gave it and creates a model object from that file. It returns that model object. `reparentTo` tells Panda3D that the model is in the scene and needs to be rendered."
   ]
  },
  {
   "cell_type": "code",
   "execution_count": null,
   "metadata": {},
   "outputs": [],
   "source": [
    "class World:\n",
    "    def __init__(self):\n",
    "        base.setBackgroundColor(0.4, 0.9, 0.3)\n",
    "        self.model = loader.loadModel(\"/home/ivory/VersionControl/catvehicle_ws/src/sparkle/meshes/Hybrid.obj\")\n",
    "        self.model.reparentTo(render)\n",
    "        self.model.setPos(0, 0, -5)\n",
    "        self.model.setRenderModeWireframe()"
   ]
  },
  {
   "cell_type": "code",
   "execution_count": null,
   "metadata": {},
   "outputs": [],
   "source": [
    "w = World()\n",
    "run()"
   ]
  },
  {
   "cell_type": "code",
   "execution_count": null,
   "metadata": {},
   "outputs": [],
   "source": []
  }
 ],
 "metadata": {
  "kernelspec": {
   "display_name": "Python 3.7.5 64-bit ('dbn': conda)",
   "language": "python",
   "name": "python37564bitdbnconda0ff40c201a374a3db2aacabb837785f4"
  },
  "language_info": {
   "codemirror_mode": {
    "name": "ipython",
    "version": 3
   },
   "file_extension": ".py",
   "mimetype": "text/x-python",
   "name": "python",
   "nbconvert_exporter": "python",
   "pygments_lexer": "ipython3",
   "version": "3.7.5"
  }
 },
 "nbformat": 4,
 "nbformat_minor": 2
}
