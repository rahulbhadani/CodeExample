{
 "cells": [
  {
   "cell_type": "markdown",
   "metadata": {},
   "source": [
    "DirectStart takes care of everything needed to start up Panda3D by creating the architecture that is necessary for Panda3D to run. This includes creating a default Panda3D window, the graphics pipe for the window, the renderer, the task manager, and more. To put it simply, DirectStart makes Panda3D go."
   ]
  },
  {
   "cell_type": "code",
   "execution_count": null,
   "metadata": {},
   "outputs": [],
   "source": [
    "import direct.directbase.DirectStart"
   ]
  },
  {
   "cell_type": "markdown",
   "metadata": {},
   "source": [
    "This call starts up the components created by DirectStart so that the visualization can operate. Without run(), the utility that controls all of Panda3D's actions, each frame wouldn't start. Panda3D relies on a main loop that performs several important operations, including processing graphics and rendering frames. Each time this main loop executes, it performs these functions, renders a frame, and then repeats."
   ]
  },
  {
   "cell_type": "code",
   "execution_count": null,
   "metadata": {},
   "outputs": [],
   "source": [
    "t = run()"
   ]
  }
 ],
 "metadata": {
  "kernelspec": {
   "display_name": "Python 3.7.5 64-bit ('dbn': conda)",
   "language": "python",
   "name": "python37564bitdbnconda0ff40c201a374a3db2aacabb837785f4"
  },
  "language_info": {
   "codemirror_mode": {
    "name": "ipython",
    "version": 3
   },
   "file_extension": ".py",
   "mimetype": "text/x-python",
   "name": "python",
   "nbconvert_exporter": "python",
   "pygments_lexer": "ipython3",
   "version": "3.7.5"
  }
 },
 "nbformat": 4,
 "nbformat_minor": 2
}
