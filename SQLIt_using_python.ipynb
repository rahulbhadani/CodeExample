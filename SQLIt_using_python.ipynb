{
 "cells": [
  {
   "cell_type": "code",
   "execution_count": 7,
   "metadata": {},
   "outputs": [],
   "source": [
    "import sqlite3\n",
    "from sqlite3 import Error"
   ]
  },
  {
   "cell_type": "code",
   "execution_count": 8,
   "metadata": {},
   "outputs": [
    {
     "data": {
      "text/plain": [
       "'HELLO'"
      ]
     },
     "execution_count": 8,
     "metadata": {},
     "output_type": "execute_result"
    }
   ],
   "source": [
    "\"hello\".upper()"
   ]
  },
  {
   "cell_type": "code",
   "execution_count": 11,
   "metadata": {},
   "outputs": [],
   "source": [
    "def create_connection(db_file):\n",
    "    \"\"\" create a database connection to a SQLite database \"\"\"\n",
    "    conn = None\n",
    "    try:\n",
    "        conn = sqlite3.connect(db_file)\n",
    "        print(sqlite3.version)\n",
    "    except sqlite3.Error as e:\n",
    "        print(e)\n",
    "            \n",
    "    return conn"
   ]
  },
  {
   "cell_type": "code",
   "execution_count": 12,
   "metadata": {},
   "outputs": [
    {
     "name": "stdout",
     "output_type": "stream",
     "text": [
      "2.6.0\n"
     ]
    }
   ],
   "source": [
    "database = \"pythonsqlite.db\"\n",
    "conn = create_connection(\"pythonsqlite.db\")"
   ]
  },
  {
   "cell_type": "code",
   "execution_count": 87,
   "metadata": {},
   "outputs": [],
   "source": [
    "def create_table(conn, create_table_sql):\n",
    "    \"\"\" create a table from the create_table_sql statement\n",
    "    :param conn: Connection object\n",
    "    :param create_table_sql: a CREATE TABLE statement\n",
    "    :return:\n",
    "    \"\"\"\n",
    "    try:\n",
    "        c = conn.cursor()\n",
    "        c.execute(create_table_sql)\n",
    "    except Error as e:\n",
    "        print(e)"
   ]
  },
  {
   "cell_type": "code",
   "execution_count": 88,
   "metadata": {},
   "outputs": [],
   "source": [
    "def create_project(conn, project):\n",
    "    \"\"\"\n",
    "    Create a new project into the projects table\n",
    "    :param conn:\n",
    "    :param project:\n",
    "    :return: project id\n",
    "    \"\"\"\n",
    "    sql = ''' INSERT INTO projects(name,begin_date,end_date)\n",
    "              VALUES(?,?,?) '''\n",
    "    cur = conn.cursor()\n",
    "    cur.execute(sql, project)\n",
    "    conn.commit()\n",
    "    return cur.lastrowid"
   ]
  },
  {
   "cell_type": "code",
   "execution_count": 89,
   "metadata": {},
   "outputs": [],
   "source": [
    "def create_task(conn, task):\n",
    "    \"\"\"\n",
    "    Create a new task\n",
    "    :param conn:\n",
    "    :param task:\n",
    "    :return:\n",
    "    \"\"\"\n",
    "\n",
    "    sql = ''' INSERT INTO tasks(name,priority,status_id,project_id,begin_date,end_date)\n",
    "              VALUES(?,?,?,?,?,?) '''\n",
    "    cur = conn.cursor()\n",
    "    cur.execute(sql, task)\n",
    "    conn.commit()\n",
    "\n",
    "    return cur.lastrowid"
   ]
  },
  {
   "cell_type": "code",
   "execution_count": 90,
   "metadata": {},
   "outputs": [],
   "source": [
    "def update_task(conn, task):\n",
    "    \"\"\"\n",
    "    update priority, begin_date, and end date of a task\n",
    "    :param conn:\n",
    "    :param task:\n",
    "    :return: project id\n",
    "    \"\"\"\n",
    "    sql = ''' UPDATE tasks\n",
    "              SET priority = ? ,\n",
    "                  begin_date = ? ,\n",
    "                  end_date = ?\n",
    "              WHERE id = ?'''\n",
    "    cur = conn.cursor()\n",
    "    cur.execute(sql, task)\n",
    "    conn.commit()"
   ]
  },
  {
   "cell_type": "code",
   "execution_count": 91,
   "metadata": {},
   "outputs": [],
   "source": [
    "def delete_all_tasks(conn):\n",
    "    \"\"\"\n",
    "    Delete all rows in the tasks table\n",
    "    :param conn: Connection to the SQLite database\n",
    "    :return:\n",
    "    \"\"\"\n",
    "    sql = 'DELETE FROM tasks'\n",
    "    cur = conn.cursor()\n",
    "    cur.execute(sql)\n",
    "    conn.commit()"
   ]
  },
  {
   "cell_type": "code",
   "execution_count": 92,
   "metadata": {},
   "outputs": [],
   "source": [
    "def delete_task(conn, id):\n",
    "    \"\"\"\n",
    "    Delete a task by task id\n",
    "    :param conn:  Connection to the SQLite database\n",
    "    :param id: id of the task\n",
    "    :return:\n",
    "    \"\"\"\n",
    "    sql = 'DELETE FROM tasks WHERE id=?'\n",
    "    cur = conn.cursor()\n",
    "    cur.execute(sql, (id,))\n",
    "    conn.commit()"
   ]
  },
  {
   "cell_type": "code",
   "execution_count": 93,
   "metadata": {},
   "outputs": [],
   "source": [
    "def select_all_tasks(conn):\n",
    "    \"\"\"\n",
    "    Query all rows in the tasks table\n",
    "    :param conn: the Connection object\n",
    "    :return:\n",
    "    \"\"\"\n",
    "    cur = conn.cursor()\n",
    "    cur.execute(\"SELECT * FROM tasks\")\n",
    "\n",
    "    rows = cur.fetchall()\n",
    "\n",
    "    for row in rows:\n",
    "        print(row)"
   ]
  },
  {
   "cell_type": "code",
   "execution_count": 94,
   "metadata": {},
   "outputs": [],
   "source": [
    "def select_task_by_priority(conn, priority):\n",
    "    \"\"\"\n",
    "    Query tasks by priority\n",
    "    :param conn: the Connection object\n",
    "    :param priority:\n",
    "    :return:\n",
    "    \"\"\"\n",
    "    cur = conn.cursor()\n",
    "    cur.execute(\"SELECT * FROM tasks WHERE priority=?\", (priority,))\n",
    "\n",
    "    rows = cur.fetchall()\n",
    "\n",
    "    for row in rows:\n",
    "        print(row)"
   ]
  },
  {
   "cell_type": "code",
   "execution_count": 95,
   "metadata": {},
   "outputs": [],
   "source": [
    "sql_create_projects_table = \"\"\" CREATE TABLE IF NOT EXISTS projects (\n",
    "                                        id integer PRIMARY KEY,\n",
    "                                        name text NOT NULL,\n",
    "                                        begin_date text,\n",
    "                                        end_date text\n",
    "                                    ); \"\"\""
   ]
  },
  {
   "cell_type": "code",
   "execution_count": 96,
   "metadata": {},
   "outputs": [],
   "source": [
    "sql_create_tasks_table = \"\"\"CREATE TABLE IF NOT EXISTS tasks (\n",
    "                                    id integer PRIMARY KEY,\n",
    "                                    name text NOT NULL,\n",
    "                                    priority integer,\n",
    "                                    status_id integer NOT NULL,\n",
    "                                    project_id integer NOT NULL,\n",
    "                                    begin_date text NOT NULL,\n",
    "                                    end_date text NOT NULL,\n",
    "                                    FOREIGN KEY (project_id) REFERENCES projects (id)\n",
    "                                );\"\"\""
   ]
  },
  {
   "cell_type": "code",
   "execution_count": 97,
   "metadata": {},
   "outputs": [],
   "source": [
    "create_table(conn, sql_create_projects_table)\n",
    "create_table(conn, sql_create_tasks_table)"
   ]
  },
  {
   "cell_type": "code",
   "execution_count": 98,
   "metadata": {},
   "outputs": [],
   "source": [
    "project = ('Cool App with SQLite & Python', '2015-01-01', '2015-01-30');\n",
    "project_id = create_project(conn, project)\n"
   ]
  },
  {
   "cell_type": "code",
   "execution_count": 99,
   "metadata": {},
   "outputs": [
    {
     "data": {
      "text/plain": [
       "8"
      ]
     },
     "execution_count": 99,
     "metadata": {},
     "output_type": "execute_result"
    }
   ],
   "source": [
    "task_1 = ('Analyze the requirements of the app', 1, 1, project_id, '2015-01-01', '2015-01-02')\n",
    "task_2 = ('Confirm with user about the top requirements', 1, 1, project_id, '2015-01-03', '2015-01-05')\n",
    "\n",
    "# create tasks\n",
    "create_task(conn, task_1)\n",
    "create_task(conn, task_2)"
   ]
  },
  {
   "cell_type": "code",
   "execution_count": 100,
   "metadata": {},
   "outputs": [],
   "source": [
    "update_task(conn, (2, '2015-01-04', '2015-01-06', 2))"
   ]
  },
  {
   "cell_type": "code",
   "execution_count": 101,
   "metadata": {},
   "outputs": [],
   "source": [
    "delete_task(conn, 2)"
   ]
  },
  {
   "cell_type": "code",
   "execution_count": 102,
   "metadata": {},
   "outputs": [
    {
     "name": "stdout",
     "output_type": "stream",
     "text": [
      "1. Query task by priority:\n",
      "(1, 'Analyze the requirements of the app', 1, 1, 1, '2015-01-01', '2015-01-02')\n",
      "(3, 'Analyze the requirements of the app', 1, 1, 2, '2015-01-01', '2015-01-02')\n",
      "(4, 'Confirm with user about the top requirements', 1, 1, 2, '2015-01-03', '2015-01-05')\n",
      "(5, 'Analyze the requirements of the app', 1, 1, 3, '2015-01-01', '2015-01-02')\n",
      "(6, 'Confirm with user about the top requirements', 1, 1, 3, '2015-01-03', '2015-01-05')\n",
      "(7, 'Analyze the requirements of the app', 1, 1, 4, '2015-01-01', '2015-01-02')\n",
      "(8, 'Confirm with user about the top requirements', 1, 1, 4, '2015-01-03', '2015-01-05')\n",
      "2. Query all tasks\n",
      "(1, 'Analyze the requirements of the app', 1, 1, 1, '2015-01-01', '2015-01-02')\n",
      "(3, 'Analyze the requirements of the app', 1, 1, 2, '2015-01-01', '2015-01-02')\n",
      "(4, 'Confirm with user about the top requirements', 1, 1, 2, '2015-01-03', '2015-01-05')\n",
      "(5, 'Analyze the requirements of the app', 1, 1, 3, '2015-01-01', '2015-01-02')\n",
      "(6, 'Confirm with user about the top requirements', 1, 1, 3, '2015-01-03', '2015-01-05')\n",
      "(7, 'Analyze the requirements of the app', 1, 1, 4, '2015-01-01', '2015-01-02')\n",
      "(8, 'Confirm with user about the top requirements', 1, 1, 4, '2015-01-03', '2015-01-05')\n"
     ]
    }
   ],
   "source": [
    "print(\"1. Query task by priority:\")\n",
    "select_task_by_priority(conn, 1)\n",
    "\n",
    "print(\"2. Query all tasks\")\n",
    "select_all_tasks(conn)"
   ]
  },
  {
   "cell_type": "code",
   "execution_count": 80,
   "metadata": {},
   "outputs": [],
   "source": [
    "conn.close()"
   ]
  },
  {
   "cell_type": "code",
   "execution_count": null,
   "metadata": {},
   "outputs": [],
   "source": []
  }
 ],
 "metadata": {
  "kernelspec": {
   "display_name": "Python 3.7.7 64-bit ('snakemake': conda)",
   "language": "python",
   "name": "python37764bitsnakemakecondaefbdaffc76034deba1c1e6fad0217d6a"
  },
  "language_info": {
   "codemirror_mode": {
    "name": "ipython",
    "version": 3
   },
   "file_extension": ".py",
   "mimetype": "text/x-python",
   "name": "python",
   "nbconvert_exporter": "python",
   "pygments_lexer": "ipython3",
   "version": "3.7.7"
  }
 },
 "nbformat": 4,
 "nbformat_minor": 2
}
