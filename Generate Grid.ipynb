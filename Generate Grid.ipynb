{
 "cells": [
  {
   "cell_type": "code",
   "execution_count": 1,
   "metadata": {},
   "outputs": [],
   "source": [
    "stubfile = \"/home/ivory/VersionControl/catvehicle_ws/src/sparkle/worlds/world.stub\"\n",
    "with open(stubfile, 'r') as file:\n",
    "    content = file.read()"
   ]
  },
  {
   "cell_type": "markdown",
   "metadata": {},
   "source": [
    "## Construct the Ground Plane"
   ]
  },
  {
   "cell_type": "code",
   "execution_count": 2,
   "metadata": {},
   "outputs": [],
   "source": [
    "nrows_below = 2\n",
    "nrows_above = 2\n",
    "ncols_left = 2\n",
    "ncols_right = 2"
   ]
  },
  {
   "cell_type": "code",
   "execution_count": 3,
   "metadata": {},
   "outputs": [],
   "source": [
    "required_string_0 = \"<model name='ground_plane\"\n",
    "required_string_1 = \"'><pose>\"\n",
    "required_string_2 = \"0 0 \"\n",
    "required_string_3 = \"-0.04 0 0 0</pose><static>true</static><link name='link'><visual name='visual'>\"\n",
    "required_string_4 = \"<cast_shadows>0</cast_shadows><geometry><plane><normal>0 0 1</normal>\"\n",
    "required_string_5 = \"<size>1000 1000</size></plane></geometry><material><script>\"\n",
    "required_string_6 =\"<uri>file://media/materials/scripts/gazebo.material</uri><name>Gazebo/Grey</name>\"\n",
    "required_string_7=\"</script></material></visual><collision name='collision'><geometry>\"\n",
    "required_string_8=\"<plane><normal>0 0 1</normal><size>1000 1000</size></plane></geometry><surface> \\\n",
    "            <friction><ode><mu>10000</mu>  \\\n",
    "                <mu2>5000</mu2> \\\n",
    "              </ode> \\\n",
    "            </friction> \\\n",
    "            <bounce/> \\\n",
    "            <contact> \\\n",
    "              <ode/> \\\n",
    "            </contact> \\\n",
    "          </surface><max_contacts>10</max_contacts></collision><self_collide>0</self_collide><kinematic>0</kinematic><gravity>1</gravity></link></model>\""
   ]
  },
  {
   "cell_type": "code",
   "execution_count": 4,
   "metadata": {},
   "outputs": [],
   "source": [
    "new_str = \"\"\n",
    "counter = 0\n",
    "pos_y = 0\n",
    "pos_x = 0\n",
    "required_string_2 = str(pos_x) + \" \" + str(pos_y) + \" \"\n",
    "\n",
    "new_str = new_str + required_string_0 + \"_\" + str(counter) + required_string_1 + required_string_2 + required_string_3 + required_string_4 + required_string_5+ required_string_6 + required_string_7 + required_string_8\n",
    "new_str = new_str  + '\\n'\n",
    "counter = counter + 1"
   ]
  },
  {
   "cell_type": "code",
   "execution_count": 5,
   "metadata": {},
   "outputs": [],
   "source": [
    "for i in range(0, nrows_below):\n",
    "    for j in range(0, ncols_right):\n",
    "        pos_y = -1000.0*(i+1)\n",
    "        pos_x = 1000.0*(j+1)\n",
    "        required_string_2 = str(pos_x) + \" \" + str(pos_y) + \" \"\n",
    "        \n",
    "        new_str = new_str + required_string_0 + \"_\" + str(counter) + required_string_1 + required_string_2 + required_string_3 + required_string_4 + required_string_5+ required_string_6 + required_string_7 + required_string_8\n",
    "        new_str = new_str  + '\\n'\n",
    "        counter = counter + 1"
   ]
  },
  {
   "cell_type": "code",
   "execution_count": 6,
   "metadata": {},
   "outputs": [],
   "source": [
    "for i in range(0, nrows_below):\n",
    "    for j in range(0, ncols_left):\n",
    "        pos_y = -1000.0*(i+1)\n",
    "        pos_x = -1000.0*(j+1)\n",
    "        required_string_2 = str(pos_x) + \" \" + str(pos_y) + \" \"\n",
    "        \n",
    "        new_str = new_str + required_string_0 + \"_\" + str(counter) + required_string_1 + required_string_2 + required_string_3 + required_string_4 + required_string_5+ required_string_6 + required_string_7 + required_string_8\n",
    "        new_str = new_str  + '\\n'\n",
    "        counter = counter + 1"
   ]
  },
  {
   "cell_type": "code",
   "execution_count": 7,
   "metadata": {},
   "outputs": [],
   "source": [
    "for i in range(0, nrows_above):\n",
    "    for j in range(0, ncols_left):\n",
    "        pos_y = 1000.0*(i+1)\n",
    "        pos_x = -1000.0*(j+1)\n",
    "        required_string_2 = str(pos_x) + \" \" + str(pos_y) + \" \"\n",
    "        \n",
    "        new_str = new_str + required_string_0 + \"_\" + str(counter) + required_string_1 + required_string_2 + required_string_3 + required_string_4 + required_string_5+ required_string_6 + required_string_7 + required_string_8\n",
    "        new_str = new_str  + '\\n'\n",
    "        counter = counter + 1"
   ]
  },
  {
   "cell_type": "code",
   "execution_count": 8,
   "metadata": {},
   "outputs": [],
   "source": [
    "for i in range(0, nrows_above):\n",
    "    for j in range(0, ncols_right):\n",
    "        pos_y = 1000.0*(i+1)\n",
    "        pos_x = 1000.0*(j+1)\n",
    "        required_string_2 = str(pos_x) + \" \" + str(pos_y) + \" \"\n",
    "        \n",
    "        new_str = new_str + required_string_0 + \"_\" + str(counter) + required_string_1 + required_string_2 + required_string_3 + required_string_4 + required_string_5+ required_string_6 + required_string_7 + required_string_8\n",
    "        new_str = new_str  + '\\n'\n",
    "        counter = counter + 1"
   ]
  },
  {
   "cell_type": "code",
   "execution_count": 9,
   "metadata": {
    "scrolled": false
   },
   "outputs": [],
   "source": [
    "for i in range(0, nrows_above):\n",
    "    pos_y = 1000.0*(i+1)\n",
    "    pos_x = 0.0\n",
    "    required_string_2 = str(pos_x) + \" \" + str(pos_y) + \" \"\n",
    "        \n",
    "    new_str = new_str + required_string_0 + \"_\" + str(counter) + required_string_1 + required_string_2 + required_string_3 + required_string_4 + required_string_5+ required_string_6 + required_string_7 + required_string_8\n",
    "    new_str = new_str  + '\\n'\n",
    "    counter = counter + 1"
   ]
  },
  {
   "cell_type": "code",
   "execution_count": 10,
   "metadata": {
    "scrolled": false
   },
   "outputs": [],
   "source": [
    "for i in range(0, nrows_below):\n",
    "    pos_y = -1000.0*(i+1)\n",
    "    pos_x = 0.0\n",
    "    required_string_2 = str(pos_x) + \" \" + str(pos_y) + \" \"\n",
    "\n",
    "    new_str = new_str + required_string_0 + \"_\" + str(counter) + required_string_1 + required_string_2 + required_string_3 + required_string_4 + required_string_5+ required_string_6 + required_string_7 + required_string_8\n",
    "    new_str = new_str  + '\\n'\n",
    "    counter = counter + 1"
   ]
  },
  {
   "cell_type": "code",
   "execution_count": 11,
   "metadata": {},
   "outputs": [],
   "source": [
    "for i in range(0, ncols_right):\n",
    "    pos_x = 1000.0*(i+1)\n",
    "    pos_y = 0.0\n",
    "    required_string_2 = str(pos_x) + \" \" + str(pos_y) + \" \"\n",
    "        \n",
    "    new_str = new_str + required_string_0 + \"_\" + str(counter) + required_string_1 + required_string_2 + required_string_3 + required_string_4 + required_string_5+ required_string_6 + required_string_7 + required_string_8\n",
    "    new_str = new_str  + '\\n'\n",
    "    counter = counter + 1"
   ]
  },
  {
   "cell_type": "code",
   "execution_count": 12,
   "metadata": {},
   "outputs": [],
   "source": [
    "for i in range(0, ncols_left):\n",
    "    pos_x = -1000.0*(i+1)\n",
    "    pos_y = 0.0\n",
    "    required_string_2 = str(pos_x) + \" \" + str(pos_y) + \" \"\n",
    "        \n",
    "    new_str = new_str + required_string_0 + \"_\" + str(counter) + required_string_1 + required_string_2 + required_string_3 + required_string_4 + required_string_5+ required_string_6 + required_string_7 + required_string_8\n",
    "    new_str = new_str  + '\\n'\n",
    "    counter = counter + 1"
   ]
  },
  {
   "cell_type": "code",
   "execution_count": 13,
   "metadata": {
    "scrolled": false
   },
   "outputs": [],
   "source": [
    "content = content + new_str"
   ]
  },
  {
   "cell_type": "markdown",
   "metadata": {},
   "source": [
    "## Construct the roads"
   ]
  },
  {
   "cell_type": "code",
   "execution_count": 14,
   "metadata": {},
   "outputs": [],
   "source": [
    "roads = \"<road name='road_y_1'><width>7.4</width><point>100 -1500 0.00</point><point>100 1500 0.00</point></road>\"\n",
    "content = content + roads"
   ]
  },
  {
   "cell_type": "code",
   "execution_count": 15,
   "metadata": {},
   "outputs": [],
   "source": [
    "content = content + \"</world></sdf>\""
   ]
  },
  {
   "cell_type": "code",
   "execution_count": 16,
   "metadata": {},
   "outputs": [],
   "source": [
    "neworld = \"/home/ivory/VersionControl/catvehicle_ws/src/sparkle/worlds/plane.world\"\n",
    "text_file = open(neworld, \"w\")\n",
    "n = text_file.write(content)\n",
    "text_file.close()"
   ]
  },
  {
   "cell_type": "code",
   "execution_count": 17,
   "metadata": {},
   "outputs": [],
   "source": [
    "import rospy"
   ]
  },
  {
   "cell_type": "code",
   "execution_count": 18,
   "metadata": {},
   "outputs": [],
   "source": [
    "d = rospy.Duration.from_sec(60.1) "
   ]
  },
  {
   "cell_type": "code",
   "execution_count": 19,
   "metadata": {
    "scrolled": true
   },
   "outputs": [
    {
     "data": {
      "text/plain": [
       "60.1"
      ]
     },
     "execution_count": 19,
     "metadata": {},
     "output_type": "execute_result"
    }
   ],
   "source": [
    "d.to_sec()"
   ]
  },
  {
   "cell_type": "code",
   "execution_count": 20,
   "metadata": {},
   "outputs": [
    {
     "data": {
      "text/plain": [
       "60100000000"
      ]
     },
     "execution_count": 20,
     "metadata": {},
     "output_type": "execute_result"
    }
   ],
   "source": [
    "d.to_nsec()"
   ]
  },
  {
   "cell_type": "code",
   "execution_count": 35,
   "metadata": {},
   "outputs": [],
   "source": [
    "class b:\n",
    "    def __init__(self):\n",
    "        self.x = 20.0\n",
    "        print(self.__class__.__name__)\n",
    "    \n",
    "    def print(self):\n",
    "        if 'y' in self.__dict__:\n",
    "            print('yes')\n",
    "        else:\n",
    "            print('no')\n",
    "            self.y = 2\n",
    "            \n",
    "        print(self.__class__.__name__)"
   ]
  },
  {
   "cell_type": "code",
   "execution_count": 36,
   "metadata": {},
   "outputs": [
    {
     "name": "stdout",
     "output_type": "stream",
     "text": [
      "b\n",
      "no\n",
      "b\n"
     ]
    }
   ],
   "source": [
    "B = b()\n",
    "B.print()"
   ]
  },
  {
   "cell_type": "code",
   "execution_count": 37,
   "metadata": {},
   "outputs": [
    {
     "name": "stdout",
     "output_type": "stream",
     "text": [
      "yes\n",
      "b\n"
     ]
    }
   ],
   "source": [
    "B.print()"
   ]
  },
  {
   "cell_type": "code",
   "execution_count": 23,
   "metadata": {},
   "outputs": [],
   "source": [
    "class c(b):\n",
    "    def __init__(self):\n",
    "        print(self.__class__.__name__)"
   ]
  },
  {
   "cell_type": "code",
   "execution_count": 24,
   "metadata": {},
   "outputs": [
    {
     "name": "stdout",
     "output_type": "stream",
     "text": [
      "c\n",
      "c\n"
     ]
    }
   ],
   "source": [
    "C = c()\n",
    "C.print()"
   ]
  },
  {
   "cell_type": "code",
   "execution_count": null,
   "metadata": {},
   "outputs": [],
   "source": []
  }
 ],
 "metadata": {
  "kernelspec": {
   "display_name": "Python 3.7.5 64-bit ('dbn': conda)",
   "language": "python",
   "name": "python37564bitdbnconda0ff40c201a374a3db2aacabb837785f4"
  },
  "language_info": {
   "codemirror_mode": {
    "name": "ipython",
    "version": 3
   },
   "file_extension": ".py",
   "mimetype": "text/x-python",
   "name": "python",
   "nbconvert_exporter": "python",
   "pygments_lexer": "ipython3",
   "version": "3.7.5"
  }
 },
 "nbformat": 4,
 "nbformat_minor": 2
}
