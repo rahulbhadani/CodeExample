{
 "cells": [
  {
   "cell_type": "markdown",
   "metadata": {},
   "source": [
    "# Creating simplest class"
   ]
  },
  {
   "cell_type": "code",
   "execution_count": 3,
   "metadata": {},
   "outputs": [
    {
     "name": "stdout",
     "output_type": "stream",
     "text": [
      "<class '__main__.Person'>\n"
     ]
    }
   ],
   "source": [
    "class Person:\n",
    "    pass #empty block\n",
    "p = Person\n",
    "print(p)"
   ]
  },
  {
   "cell_type": "markdown",
   "metadata": {},
   "source": [
    "# Functions in class definition with self"
   ]
  },
  {
   "cell_type": "code",
   "execution_count": 4,
   "metadata": {},
   "outputs": [
    {
     "name": "stdout",
     "output_type": "stream",
     "text": [
      "How are you?\n"
     ]
    }
   ],
   "source": [
    "class Person:\n",
    "    def say_hi(self):\n",
    "        print('How are you?')\n",
    "p = Person()\n",
    "p.say_hi()\n",
    "# Previous 2 lines can also be written as Person().say_hi()"
   ]
  },
  {
   "cell_type": "markdown",
   "metadata": {},
   "source": [
    "# Using \\_\\_init\\_\\_"
   ]
  },
  {
   "cell_type": "markdown",
   "metadata": {},
   "source": [
    "The `__init__` method is run as soon as an object of a class is instantiated. This is like constructor in C++ and does the job of any initialization required for class members, etc. "
   ]
  },
  {
   "cell_type": "code",
   "execution_count": 5,
   "metadata": {},
   "outputs": [
    {
     "name": "stdout",
     "output_type": "stream",
     "text": [
      "Hello, my name is  Wolverine\n"
     ]
    }
   ],
   "source": [
    "class Person:\n",
    "    def __init__(self, name):\n",
    "        self.name = name\n",
    "    def say_hi(self):\n",
    "        print('Hello, my name is ', self.name)\n",
    "p = Person('Wolverine')\n",
    "p.say_hi()\n"
   ]
  },
  {
   "cell_type": "markdown",
   "metadata": {},
   "source": [
    "Here, we define `__init__` method with parameters `name` and `self`. Here, also by writing `self.name`, we created a member variable of class Person with the name `name`, although it is different from argument `name` being passed. Hence, a way of defining object variable is to write `self.<variableName>` in the `__init__` function."
   ]
  },
  {
   "cell_type": "markdown",
   "metadata": {},
   "source": [
    "# Class variables and Object variables\n",
    "Just like static in C++, we have class variables in python. We already saw a means of creating object variables in the above example."
   ]
  },
  {
   "cell_type": "code",
   "execution_count": 1,
   "metadata": {},
   "outputs": [],
   "source": [
    "class Robot:\n",
    "    \"\"\" Representes a robot with a name.\"\"\" \n",
    "    #In the above way the description about class is provided\n",
    "    population = 0\n",
    "    def __init__(self, name):\n",
    "        \"\"\"Initialize the data.\"\"\"\n",
    "        self.name = name\n",
    "        print(\"(Initializing {})\".format(self.name))\n",
    "        # When this person is created, the robot adds to the population\n",
    "        Robot.population += 1\n",
    "    \n",
    "    def die(self):\n",
    "        \"\"\" I am dying\"\"\"\n",
    "        print(\"{} is being\")\n",
    "        if Robot.population == 0:\n",
    "            print(\"No more robot to die\")\n",
    "        else:\n",
    "            Robot.population -= 1\n",
    "    def say_hi(self):\n",
    "        print(\"Greeting from {}\".format(self.name))\n",
    "    \n",
    "    @classmethod\n",
    "    def how_many(cls):\n",
    "        \"\"\"Print the current number of robots.\"\"\"\n",
    "        print(\"We have {:d} robots\".format(cls.population))\n",
    "        "
   ]
  },
  {
   "cell_type": "code",
   "execution_count": 6,
   "metadata": {},
   "outputs": [
    {
     "name": "stdout",
     "output_type": "stream",
     "text": [
      "(Initializing R2-D2)\n",
      "Greeting from R2-D2\n",
      "We have 5 robots\n"
     ]
    }
   ],
   "source": [
    "robo1 = Robot(\"R2-D2\")\n",
    "robo1.say_hi()\n",
    "Robot.how_many()"
   ]
  },
  {
   "cell_type": "code",
   "execution_count": null,
   "metadata": {},
   "outputs": [],
   "source": []
  },
  {
   "cell_type": "code",
   "execution_count": null,
   "metadata": {},
   "outputs": [],
   "source": []
  }
 ],
 "metadata": {
  "kernelspec": {
   "display_name": "Python 3",
   "language": "python",
   "name": "python3"
  },
  "language_info": {
   "codemirror_mode": {
    "name": "ipython",
    "version": 3
   },
   "file_extension": ".py",
   "mimetype": "text/x-python",
   "name": "python",
   "nbconvert_exporter": "python",
   "pygments_lexer": "ipython3",
   "version": "3.6.8"
  }
 },
 "nbformat": 4,
 "nbformat_minor": 2
}
