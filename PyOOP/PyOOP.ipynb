{
 "cells": [
  {
   "cell_type": "markdown",
   "metadata": {},
   "source": [
    "# This tutorial and its explanation are for people who already familiar with OOP in C++"
   ]
  },
  {
   "cell_type": "markdown",
   "metadata": {},
   "source": [
    "# Creating simplest class"
   ]
  },
  {
   "cell_type": "code",
   "execution_count": 3,
   "metadata": {},
   "outputs": [
    {
     "name": "stdout",
     "output_type": "stream",
     "text": [
      "<class '__main__.Person'>\n"
     ]
    }
   ],
   "source": [
    "class Person:\n",
    "    pass #empty block\n",
    "p = Person\n",
    "print(p)"
   ]
  },
  {
   "cell_type": "markdown",
   "metadata": {},
   "source": [
    "# Functions in class definition with self"
   ]
  },
  {
   "cell_type": "code",
   "execution_count": 4,
   "metadata": {},
   "outputs": [
    {
     "name": "stdout",
     "output_type": "stream",
     "text": [
      "How are you?\n"
     ]
    }
   ],
   "source": [
    "class Person:\n",
    "    def say_hi(self):\n",
    "        print('How are you?')\n",
    "p = Person()\n",
    "p.say_hi()\n",
    "# Previous 2 lines can also be written as Person().say_hi()"
   ]
  },
  {
   "cell_type": "markdown",
   "metadata": {},
   "source": [
    "# Using \\_\\_init\\_\\_"
   ]
  },
  {
   "cell_type": "markdown",
   "metadata": {},
   "source": [
    "The `__init__` method is run as soon as an object of a class is instantiated. This is like constructor in C++ and does the job of any initialization required for class members, etc. "
   ]
  },
  {
   "cell_type": "code",
   "execution_count": 5,
   "metadata": {},
   "outputs": [
    {
     "name": "stdout",
     "output_type": "stream",
     "text": [
      "Hello, my name is  Wolverine\n"
     ]
    }
   ],
   "source": [
    "class Person:\n",
    "    def __init__(self, name):\n",
    "        self.name = name\n",
    "    def say_hi(self):\n",
    "        print('Hello, my name is ', self.name)\n",
    "p = Person('Wolverine')\n",
    "p.say_hi()\n"
   ]
  },
  {
   "cell_type": "markdown",
   "metadata": {},
   "source": [
    "Here, we define `__init__` method with parameters `name` and `self`. Here, also by writing `self.name`, we created a member variable of class Person with the name `name`, although it is different from argument `name` being passed. Hence, a way of defining object variable is to write `self.<variableName>` in the `__init__` function."
   ]
  },
  {
   "cell_type": "markdown",
   "metadata": {},
   "source": [
    "# Class variables and Object variables\n",
    "Just like static in C++, we have class variables in python. We already saw a means of creating object variables in the above example."
   ]
  },
  {
   "cell_type": "code",
   "execution_count": 1,
   "metadata": {},
   "outputs": [],
   "source": [
    "class Robot:\n",
    "    \"\"\" Representes a robot with a name.\"\"\" \n",
    "    #In the above way the description about class is provided\n",
    "    population = 0\n",
    "    def __init__(self, name):\n",
    "        \"\"\"Initialize the data.\"\"\"\n",
    "        self.name = name\n",
    "        print(\"(Initializing {})\".format(self.name))\n",
    "        # When this person is created, the robot adds to the population\n",
    "        Robot.population += 1\n",
    "    \n",
    "    def die(self):\n",
    "        \"\"\" I am dying\"\"\"\n",
    "        print(\"{} is being\")\n",
    "        if Robot.population == 0:\n",
    "            print(\"No more robot to die\")\n",
    "        else:\n",
    "            Robot.population -= 1\n",
    "    def say_hi(self):\n",
    "        print(\"Greeting from {}\".format(self.name))\n",
    "    \n",
    "    @classmethod\n",
    "    def how_many(cls):\n",
    "        \"\"\"Print the current number of robots.\"\"\"\n",
    "        print(\"We have {:d} robots\".format(cls.population))\n",
    "    # Class method is like a static function in C++\n",
    "        "
   ]
  },
  {
   "cell_type": "code",
   "execution_count": 2,
   "metadata": {},
   "outputs": [
    {
     "name": "stdout",
     "output_type": "stream",
     "text": [
      "(Initializing R2-D2)\n",
      "Greeting from R2-D2\n",
      "We have 1 robots\n"
     ]
    }
   ],
   "source": [
    "robo1 = Robot(\"R2-D2\")\n",
    "robo1.say_hi()\n",
    "Robot.how_many()"
   ]
  },
  {
   "cell_type": "code",
   "execution_count": 3,
   "metadata": {},
   "outputs": [
    {
     "name": "stdout",
     "output_type": "stream",
     "text": [
      "(Initializing C3PO)\n",
      "Greeting from C3PO\n",
      "We have 2 robots\n"
     ]
    }
   ],
   "source": [
    "robo2 = Robot(\"C3PO\")\n",
    "robo2.say_hi()\n",
    "Robot.how_many()"
   ]
  },
  {
   "cell_type": "markdown",
   "metadata": {},
   "source": [
    "# Inheritance"
   ]
  },
  {
   "cell_type": "markdown",
   "metadata": {},
   "source": [
    "In this example, the superclass is `SchoolMember` and subclass is `Student`."
   ]
  },
  {
   "cell_type": "code",
   "execution_count": 7,
   "metadata": {},
   "outputs": [],
   "source": [
    "class SchoolMember:\n",
    "    '''Represents any school member'''\n",
    "    def __init__(self, name, age):\n",
    "        self.name = name\n",
    "        self.age = age\n",
    "        print('(Initialized SchoolMember:{})'.format(self.name))\n",
    "    def tell(self):\n",
    "        '''Tell my details'''\n",
    "        print('Name:\"{}\", Age:\"{}\"'.format(self.name, self.age), end=\" \")"
   ]
  },
  {
   "cell_type": "code",
   "execution_count": 8,
   "metadata": {},
   "outputs": [],
   "source": [
    "# Class student inherits from SchoolMember\n",
    "class Student(SchoolMember):\n",
    "    '''Represents a student'''\n",
    "    def __init__(self, name, age, marks):\n",
    "        SchoolMember.__init__(self, name, age)\n",
    "        self.marks = marks\n",
    "        print('(Initialized Student:{})'.format(self.name))\n",
    "    def tell(self):\n",
    "        '''Tell my details'''\n",
    "        print('Marks:\"{}\"'.format(self.marks))"
   ]
  },
  {
   "cell_type": "code",
   "execution_count": 9,
   "metadata": {
    "scrolled": true
   },
   "outputs": [
    {
     "name": "stdout",
     "output_type": "stream",
     "text": [
      "(Initialized SchoolMember:Cyclops)\n",
      "(Initialized Student:Cyclops)\n"
     ]
    }
   ],
   "source": [
    "s = Student('Cyclops', 24, 99)"
   ]
  },
  {
   "cell_type": "markdown",
   "metadata": {},
   "source": [
    "# More examples"
   ]
  },
  {
   "cell_type": "code",
   "execution_count": 10,
   "metadata": {},
   "outputs": [],
   "source": [
    "class Vehicle:\n",
    "    def __init__(self, wheels_num, tanktype, seat_num, max_vel):\n",
    "        self.wheels_num = wheels_num\n",
    "        self.tanktype = tanktype\n",
    "        self.seat_num = seat_num\n",
    "        self.max_vel = max_vel"
   ]
  },
  {
   "cell_type": "code",
   "execution_count": 11,
   "metadata": {},
   "outputs": [],
   "source": [
    "toyota_prius = Vehicle(4, 'electric', 5, 80)"
   ]
  },
  {
   "cell_type": "markdown",
   "metadata": {},
   "source": [
    "## Adding functions to the class\n",
    "A normal way of writing a getter and a setter is as follows:"
   ]
  },
  {
   "cell_type": "code",
   "execution_count": 15,
   "metadata": {},
   "outputs": [],
   "source": [
    "class Vehicle:\n",
    "    def __init__(self, wheels_num, tanktype, seat_num, max_vel):\n",
    "        self.wheels_num = wheels_num\n",
    "        self.tanktype = tanktype\n",
    "        self.seat_num = seat_num\n",
    "        self.max_vel = max_vel\n",
    "    def getWheelNums(self):\n",
    "        return self.wheels_num\n",
    "    def setWheelNums(self, number):\n",
    "        self.wheels_num = number"
   ]
  },
  {
   "cell_type": "markdown",
   "metadata": {},
   "source": [
    "In python, there is a special way of writing getter and setter of a member variable"
   ]
  },
  {
   "cell_type": "code",
   "execution_count": 16,
   "metadata": {},
   "outputs": [],
   "source": [
    "class Vehicle:\n",
    "    def __init__(self, wheels_num, tanktype, seat_num, max_vel):\n",
    "        self.wheels_num = wheels_num\n",
    "        self.tanktype = tanktype\n",
    "        self.seat_num = seat_num\n",
    "        self.max_vel = max_vel\n",
    "        \n",
    "    @property\n",
    "    def wheels_num(self):\n",
    "        return self.__wheels_num\n",
    "    \n",
    "    @wheels_num.setter\n",
    "    def wheels_num(self, number):\n",
    "        self.__wheels_num = number"
   ]
  },
  {
   "cell_type": "markdown",
   "metadata": {},
   "source": [
    "We can use getter and setter in the following ways"
   ]
  },
  {
   "cell_type": "code",
   "execution_count": 17,
   "metadata": {},
   "outputs": [
    {
     "name": "stdout",
     "output_type": "stream",
     "text": [
      "4\n",
      "2\n"
     ]
    }
   ],
   "source": [
    "toyota_prius = Vehicle(4, 'hybrid', 5, 100)\n",
    "print(toyota_prius.wheels_num)\n",
    "toyota_prius.wheels_num = 2\n",
    "print(toyota_prius.wheels_num)\n"
   ]
  },
  {
   "cell_type": "markdown",
   "metadata": {},
   "source": [
    "## Adding more methods"
   ]
  },
  {
   "cell_type": "code",
   "execution_count": 18,
   "metadata": {},
   "outputs": [],
   "source": [
    "class Vehicle:\n",
    "    def __init__(self, wheels_num, tanktype, seat_num, max_vel):\n",
    "        self.wheels_num = wheels_num\n",
    "        self.tanktype = tanktype\n",
    "        self.seat_num = seat_num\n",
    "        self.max_vel = max_vel\n",
    "        \n",
    "    @property\n",
    "    def wheels_num(self):\n",
    "        return self.__wheels_num\n",
    "    \n",
    "    @wheels_num.setter\n",
    "    def wheels_num(self, number):\n",
    "        self.__wheels_num = number\n",
    "        \n",
    "    def make_noise(self):\n",
    "        print('VRUUM VRUUM')"
   ]
  },
  {
   "cell_type": "code",
   "execution_count": 19,
   "metadata": {},
   "outputs": [
    {
     "name": "stdout",
     "output_type": "stream",
     "text": [
      "4\n",
      "2\n",
      "VRUUM VRUUM\n"
     ]
    }
   ],
   "source": [
    "toyota_prius = Vehicle(4, 'hybrid', 5, 100)\n",
    "print(toyota_prius.wheels_num)\n",
    "toyota_prius.wheels_num = 2\n",
    "print(toyota_prius.wheels_num)\n",
    "toyota_prius.make_noise()"
   ]
  },
  {
   "cell_type": "code",
   "execution_count": null,
   "metadata": {},
   "outputs": [],
   "source": []
  }
 ],
 "metadata": {
  "kernelspec": {
   "display_name": "Python 3",
   "language": "python",
   "name": "python3"
  },
  "language_info": {
   "codemirror_mode": {
    "name": "ipython",
    "version": 3
   },
   "file_extension": ".py",
   "mimetype": "text/x-python",
   "name": "python",
   "nbconvert_exporter": "python",
   "pygments_lexer": "ipython3",
   "version": "3.6.8"
  }
 },
 "nbformat": 4,
 "nbformat_minor": 2
}
